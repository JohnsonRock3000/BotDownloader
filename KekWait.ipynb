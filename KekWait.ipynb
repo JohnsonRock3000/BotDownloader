{
 "cells": [
  {
   "cell_type": "code",
   "execution_count": 2,
   "metadata": {},
   "outputs": [],
   "source": [
    "import requests\n",
    "\n",
    "video_url = 'https://yandex.ru/video/preview/6205025775254949990'\n",
    "\n",
    "def download_video(url=''):\n",
    "    try:\n",
    "        response = requests.get(url=url)\n",
    "\n",
    "        with open('req_video.mp4', 'wb') as file:\n",
    "            file.write(response.content)\n",
    "                    \n",
    "        return 'Video successfully downloaded!'\n",
    "    \n",
    "    except Exception as ex:\n",
    "         return 'Upps... Check the URL please!'\n",
    "    \n",
    "def main():\n",
    "    print(download_video(url=video_url))\n",
    "\n"
   ]
  },
  {
   "cell_type": "code",
   "execution_count": 7,
   "metadata": {},
   "outputs": [
    {
     "name": "stdout",
     "output_type": "stream",
     "text": [
      "хуй 8====================================================================================================>\n"
     ]
    }
   ],
   "source": [
    "from pytube import YouTube\n",
    "\n",
    "def download(link):\n",
    "    youtubeObject = YouTube(link)\n",
    "    youtubeObject = youtubeObject.streams.get_highest_resolution()\n",
    "    try:\n",
    "        youtubeObject.download()\n",
    "    except:\n",
    "        print(\"An error has occurred\")\n",
    "    print(\"Download is completed successfully\")\n"
   ]
  },
  {
   "cell_type": "code",
   "execution_count": 8,
   "metadata": {},
   "outputs": [
    {
     "data": {
      "text/plain": [
       "'хуй 8====================================================================================================>'"
      ]
     },
     "execution_count": 8,
     "metadata": {},
     "output_type": "execute_result"
    }
   ],
   "source": [
    "videoUrl = \"https://www.youtube.com/watch?v=dQw4w9WgXcQ\"\n",
    "download(videoUrl)"
   ]
  },
  {
   "cell_type": "code",
   "execution_count": null,
   "metadata": {},
   "outputs": [],
   "source": []
  }
 ],
 "metadata": {
  "kernelspec": {
   "display_name": "base",
   "language": "python",
   "name": "python3"
  },
  "language_info": {
   "codemirror_mode": {
    "name": "ipython",
    "version": 3
   },
   "file_extension": ".py",
   "mimetype": "text/x-python",
   "name": "python",
   "nbconvert_exporter": "python",
   "pygments_lexer": "ipython3",
   "version": "3.11.3"
  },
  "orig_nbformat": 4
 },
 "nbformat": 4,
 "nbformat_minor": 2
}
